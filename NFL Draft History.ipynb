{
 "cells": [
  {
   "cell_type": "markdown",
   "metadata": {},
   "source": [
    "# General Exploration"
   ]
  },
  {
   "cell_type": "code",
   "execution_count": 1,
   "metadata": {},
   "outputs": [],
   "source": [
    "import numpy as np\n",
    "import pandas as pd"
   ]
  },
  {
   "cell_type": "code",
   "execution_count": 2,
   "metadata": {},
   "outputs": [],
   "source": [
    "df = pd.read_excel('Draft.xlsx')"
   ]
  },
  {
   "cell_type": "code",
   "execution_count": 3,
   "metadata": {},
   "outputs": [
    {
     "data": {
      "text/html": [
       "<div>\n",
       "<style scoped>\n",
       "    .dataframe tbody tr th:only-of-type {\n",
       "        vertical-align: middle;\n",
       "    }\n",
       "\n",
       "    .dataframe tbody tr th {\n",
       "        vertical-align: top;\n",
       "    }\n",
       "\n",
       "    .dataframe thead th {\n",
       "        text-align: right;\n",
       "    }\n",
       "</style>\n",
       "<table border=\"1\" class=\"dataframe\">\n",
       "  <thead>\n",
       "    <tr style=\"text-align: right;\">\n",
       "      <th></th>\n",
       "      <th>Unnamed: 0</th>\n",
       "      <th>Rnd</th>\n",
       "      <th>Pick</th>\n",
       "      <th>Tm</th>\n",
       "      <th>Player</th>\n",
       "      <th>Pos</th>\n",
       "      <th>Age</th>\n",
       "      <th>To</th>\n",
       "      <th>AP1</th>\n",
       "      <th>PB</th>\n",
       "      <th>...</th>\n",
       "      <th>Yds.1</th>\n",
       "      <th>TD.1</th>\n",
       "      <th>Rec</th>\n",
       "      <th>Yds.2</th>\n",
       "      <th>TD.2</th>\n",
       "      <th>Tkl</th>\n",
       "      <th>Int.1</th>\n",
       "      <th>Sk</th>\n",
       "      <th>College/Univ</th>\n",
       "      <th>Year</th>\n",
       "    </tr>\n",
       "  </thead>\n",
       "  <tbody>\n",
       "    <tr>\n",
       "      <th>0</th>\n",
       "      <td>0</td>\n",
       "      <td>1</td>\n",
       "      <td>1</td>\n",
       "      <td>PIT</td>\n",
       "      <td>Terry Bradshaw</td>\n",
       "      <td>QB</td>\n",
       "      <td>22.0</td>\n",
       "      <td>1983.0</td>\n",
       "      <td>1</td>\n",
       "      <td>3</td>\n",
       "      <td>...</td>\n",
       "      <td>2257.0</td>\n",
       "      <td>32.0</td>\n",
       "      <td>0.0</td>\n",
       "      <td>1.0</td>\n",
       "      <td>0.0</td>\n",
       "      <td>NaN</td>\n",
       "      <td>NaN</td>\n",
       "      <td>NaN</td>\n",
       "      <td>Louisiana Tech</td>\n",
       "      <td>1970</td>\n",
       "    </tr>\n",
       "    <tr>\n",
       "      <th>1</th>\n",
       "      <td>1</td>\n",
       "      <td>1</td>\n",
       "      <td>2</td>\n",
       "      <td>GNB</td>\n",
       "      <td>Mike McCoy</td>\n",
       "      <td>DT</td>\n",
       "      <td>22.0</td>\n",
       "      <td>1980.0</td>\n",
       "      <td>0</td>\n",
       "      <td>0</td>\n",
       "      <td>...</td>\n",
       "      <td>NaN</td>\n",
       "      <td>NaN</td>\n",
       "      <td>NaN</td>\n",
       "      <td>NaN</td>\n",
       "      <td>NaN</td>\n",
       "      <td>NaN</td>\n",
       "      <td>1.0</td>\n",
       "      <td>NaN</td>\n",
       "      <td>Notre Dame</td>\n",
       "      <td>1970</td>\n",
       "    </tr>\n",
       "    <tr>\n",
       "      <th>2</th>\n",
       "      <td>2</td>\n",
       "      <td>1</td>\n",
       "      <td>3</td>\n",
       "      <td>CLE</td>\n",
       "      <td>Mike Phipps</td>\n",
       "      <td>QB</td>\n",
       "      <td>22.0</td>\n",
       "      <td>1981.0</td>\n",
       "      <td>0</td>\n",
       "      <td>0</td>\n",
       "      <td>...</td>\n",
       "      <td>1278.0</td>\n",
       "      <td>13.0</td>\n",
       "      <td>NaN</td>\n",
       "      <td>NaN</td>\n",
       "      <td>NaN</td>\n",
       "      <td>NaN</td>\n",
       "      <td>NaN</td>\n",
       "      <td>NaN</td>\n",
       "      <td>Purdue</td>\n",
       "      <td>1970</td>\n",
       "    </tr>\n",
       "    <tr>\n",
       "      <th>3</th>\n",
       "      <td>3</td>\n",
       "      <td>1</td>\n",
       "      <td>4</td>\n",
       "      <td>BOS</td>\n",
       "      <td>Phil Olsen</td>\n",
       "      <td>DT</td>\n",
       "      <td>22.0</td>\n",
       "      <td>1976.0</td>\n",
       "      <td>0</td>\n",
       "      <td>0</td>\n",
       "      <td>...</td>\n",
       "      <td>NaN</td>\n",
       "      <td>NaN</td>\n",
       "      <td>NaN</td>\n",
       "      <td>NaN</td>\n",
       "      <td>NaN</td>\n",
       "      <td>NaN</td>\n",
       "      <td>NaN</td>\n",
       "      <td>NaN</td>\n",
       "      <td>Utah St.</td>\n",
       "      <td>1970</td>\n",
       "    </tr>\n",
       "    <tr>\n",
       "      <th>4</th>\n",
       "      <td>4</td>\n",
       "      <td>1</td>\n",
       "      <td>5</td>\n",
       "      <td>BUF</td>\n",
       "      <td>Al Cowlings</td>\n",
       "      <td>DE</td>\n",
       "      <td>23.0</td>\n",
       "      <td>1979.0</td>\n",
       "      <td>0</td>\n",
       "      <td>0</td>\n",
       "      <td>...</td>\n",
       "      <td>NaN</td>\n",
       "      <td>NaN</td>\n",
       "      <td>NaN</td>\n",
       "      <td>NaN</td>\n",
       "      <td>NaN</td>\n",
       "      <td>NaN</td>\n",
       "      <td>NaN</td>\n",
       "      <td>NaN</td>\n",
       "      <td>USC</td>\n",
       "      <td>1970</td>\n",
       "    </tr>\n",
       "  </tbody>\n",
       "</table>\n",
       "<p>5 rows × 30 columns</p>\n",
       "</div>"
      ],
      "text/plain": [
       "   Unnamed: 0  Rnd  Pick   Tm          Player Pos   Age      To  AP1  PB  ...  \\\n",
       "0           0    1     1  PIT  Terry Bradshaw  QB  22.0  1983.0    1   3  ...   \n",
       "1           1    1     2  GNB      Mike McCoy  DT  22.0  1980.0    0   0  ...   \n",
       "2           2    1     3  CLE     Mike Phipps  QB  22.0  1981.0    0   0  ...   \n",
       "3           3    1     4  BOS      Phil Olsen  DT  22.0  1976.0    0   0  ...   \n",
       "4           4    1     5  BUF     Al Cowlings  DE  23.0  1979.0    0   0  ...   \n",
       "\n",
       "    Yds.1  TD.1  Rec  Yds.2  TD.2  Tkl  Int.1  Sk    College/Univ  Year  \n",
       "0  2257.0  32.0  0.0    1.0   0.0  NaN    NaN NaN  Louisiana Tech  1970  \n",
       "1     NaN   NaN  NaN    NaN   NaN  NaN    1.0 NaN      Notre Dame  1970  \n",
       "2  1278.0  13.0  NaN    NaN   NaN  NaN    NaN NaN          Purdue  1970  \n",
       "3     NaN   NaN  NaN    NaN   NaN  NaN    NaN NaN        Utah St.  1970  \n",
       "4     NaN   NaN  NaN    NaN   NaN  NaN    NaN NaN             USC  1970  \n",
       "\n",
       "[5 rows x 30 columns]"
      ]
     },
     "execution_count": 3,
     "metadata": {},
     "output_type": "execute_result"
    }
   ],
   "source": [
    "df.head()"
   ]
  },
  {
   "cell_type": "code",
   "execution_count": 4,
   "metadata": {},
   "outputs": [
    {
     "data": {
      "text/plain": [
       "(14496, 30)"
      ]
     },
     "execution_count": 4,
     "metadata": {},
     "output_type": "execute_result"
    }
   ],
   "source": [
    "df.shape"
   ]
  },
  {
   "cell_type": "code",
   "execution_count": 5,
   "metadata": {},
   "outputs": [
    {
     "name": "stdout",
     "output_type": "stream",
     "text": [
      "<class 'pandas.core.frame.DataFrame'>\n",
      "RangeIndex: 14496 entries, 0 to 14495\n",
      "Data columns (total 30 columns):\n",
      " #   Column        Non-Null Count  Dtype  \n",
      "---  ------        --------------  -----  \n",
      " 0   Unnamed: 0    14496 non-null  int64  \n",
      " 1   Rnd           14496 non-null  int64  \n",
      " 2   Pick          14496 non-null  int64  \n",
      " 3   Tm            14496 non-null  object \n",
      " 4   Player        14496 non-null  object \n",
      " 5   Pos           14496 non-null  object \n",
      " 6   Age           10764 non-null  float64\n",
      " 7   To            10604 non-null  float64\n",
      " 8   AP1           14496 non-null  int64  \n",
      " 9   PB            14496 non-null  int64  \n",
      " 10  St            14496 non-null  int64  \n",
      " 11  CarAV         10604 non-null  float64\n",
      " 12  DrAV          9237 non-null   float64\n",
      " 13  G             10571 non-null  float64\n",
      " 14  Cmp           981 non-null    float64\n",
      " 15  Att           981 non-null    float64\n",
      " 16  Yds           981 non-null    float64\n",
      " 17  TD            981 non-null    float64\n",
      " 18  Int           981 non-null    float64\n",
      " 19  Att.1         2660 non-null   float64\n",
      " 20  Yds.1         2660 non-null   float64\n",
      " 21  TD.1          2660 non-null   float64\n",
      " 22  Rec           3260 non-null   float64\n",
      " 23  Yds.2         3260 non-null   float64\n",
      " 24  TD.2          3260 non-null   float64\n",
      " 25  Tkl           3760 non-null   float64\n",
      " 26  Int.1         2498 non-null   float64\n",
      " 27  Sk            2741 non-null   float64\n",
      " 28  College/Univ  14453 non-null  object \n",
      " 29  Year          14496 non-null  int64  \n",
      "dtypes: float64(19), int64(7), object(4)\n",
      "memory usage: 3.3+ MB\n"
     ]
    }
   ],
   "source": [
    "df.info()"
   ]
  },
  {
   "cell_type": "code",
   "execution_count": 6,
   "metadata": {},
   "outputs": [
    {
     "data": {
      "text/plain": [
       "Unnamed: 0        int64\n",
       "Rnd               int64\n",
       "Pick              int64\n",
       "Tm               object\n",
       "Player           object\n",
       "Pos              object\n",
       "Age             float64\n",
       "To              float64\n",
       "AP1               int64\n",
       "PB                int64\n",
       "St                int64\n",
       "CarAV           float64\n",
       "DrAV            float64\n",
       "G               float64\n",
       "Cmp             float64\n",
       "Att             float64\n",
       "Yds             float64\n",
       "TD              float64\n",
       "Int             float64\n",
       "Att.1           float64\n",
       "Yds.1           float64\n",
       "TD.1            float64\n",
       "Rec             float64\n",
       "Yds.2           float64\n",
       "TD.2            float64\n",
       "Tkl             float64\n",
       "Int.1           float64\n",
       "Sk              float64\n",
       "College/Univ     object\n",
       "Year              int64\n",
       "dtype: object"
      ]
     },
     "execution_count": 6,
     "metadata": {},
     "output_type": "execute_result"
    }
   ],
   "source": [
    "df.dtypes"
   ]
  },
  {
   "cell_type": "code",
   "execution_count": 7,
   "metadata": {},
   "outputs": [
    {
     "data": {
      "text/html": [
       "<div>\n",
       "<style scoped>\n",
       "    .dataframe tbody tr th:only-of-type {\n",
       "        vertical-align: middle;\n",
       "    }\n",
       "\n",
       "    .dataframe tbody tr th {\n",
       "        vertical-align: top;\n",
       "    }\n",
       "\n",
       "    .dataframe thead th {\n",
       "        text-align: right;\n",
       "    }\n",
       "</style>\n",
       "<table border=\"1\" class=\"dataframe\">\n",
       "  <thead>\n",
       "    <tr style=\"text-align: right;\">\n",
       "      <th></th>\n",
       "      <th>Unnamed: 0</th>\n",
       "      <th>Rnd</th>\n",
       "      <th>Pick</th>\n",
       "      <th>Age</th>\n",
       "      <th>To</th>\n",
       "      <th>AP1</th>\n",
       "      <th>PB</th>\n",
       "      <th>St</th>\n",
       "      <th>CarAV</th>\n",
       "      <th>DrAV</th>\n",
       "      <th>...</th>\n",
       "      <th>Att.1</th>\n",
       "      <th>Yds.1</th>\n",
       "      <th>TD.1</th>\n",
       "      <th>Rec</th>\n",
       "      <th>Yds.2</th>\n",
       "      <th>TD.2</th>\n",
       "      <th>Tkl</th>\n",
       "      <th>Int.1</th>\n",
       "      <th>Sk</th>\n",
       "      <th>Year</th>\n",
       "    </tr>\n",
       "  </thead>\n",
       "  <tbody>\n",
       "    <tr>\n",
       "      <th>count</th>\n",
       "      <td>14496.000000</td>\n",
       "      <td>14496.000000</td>\n",
       "      <td>14496.000000</td>\n",
       "      <td>10764.000000</td>\n",
       "      <td>10604.000000</td>\n",
       "      <td>14496.000000</td>\n",
       "      <td>14496.000000</td>\n",
       "      <td>14496.000000</td>\n",
       "      <td>10604.000000</td>\n",
       "      <td>9237.000000</td>\n",
       "      <td>...</td>\n",
       "      <td>2660.000000</td>\n",
       "      <td>2660.000000</td>\n",
       "      <td>2660.000000</td>\n",
       "      <td>3260.000000</td>\n",
       "      <td>3260.000000</td>\n",
       "      <td>3260.000000</td>\n",
       "      <td>3760.000000</td>\n",
       "      <td>2498.000000</td>\n",
       "      <td>2741.000000</td>\n",
       "      <td>14496.000000</td>\n",
       "    </tr>\n",
       "    <tr>\n",
       "      <th>mean</th>\n",
       "      <td>161.707230</td>\n",
       "      <td>4.934051</td>\n",
       "      <td>162.707230</td>\n",
       "      <td>22.546358</td>\n",
       "      <td>1997.805922</td>\n",
       "      <td>0.066156</td>\n",
       "      <td>0.246896</td>\n",
       "      <td>1.694812</td>\n",
       "      <td>18.098642</td>\n",
       "      <td>14.734546</td>\n",
       "      <td>...</td>\n",
       "      <td>198.258647</td>\n",
       "      <td>804.769925</td>\n",
       "      <td>5.753383</td>\n",
       "      <td>98.712270</td>\n",
       "      <td>1181.051534</td>\n",
       "      <td>7.063497</td>\n",
       "      <td>95.646011</td>\n",
       "      <td>7.740993</td>\n",
       "      <td>12.660306</td>\n",
       "      <td>1990.385486</td>\n",
       "    </tr>\n",
       "    <tr>\n",
       "      <th>std</th>\n",
       "      <td>103.339683</td>\n",
       "      <td>2.140607</td>\n",
       "      <td>103.339683</td>\n",
       "      <td>0.839087</td>\n",
       "      <td>13.412670</td>\n",
       "      <td>0.442916</td>\n",
       "      <td>1.044949</td>\n",
       "      <td>2.971706</td>\n",
       "      <td>22.572458</td>\n",
       "      <td>19.749418</td>\n",
       "      <td>...</td>\n",
       "      <td>437.977982</td>\n",
       "      <td>1837.234615</td>\n",
       "      <td>13.543353</td>\n",
       "      <td>158.606778</td>\n",
       "      <td>2114.059937</td>\n",
       "      <td>14.291188</td>\n",
       "      <td>155.177712</td>\n",
       "      <td>9.651464</td>\n",
       "      <td>20.168304</td>\n",
       "      <td>13.807347</td>\n",
       "    </tr>\n",
       "    <tr>\n",
       "      <th>min</th>\n",
       "      <td>0.000000</td>\n",
       "      <td>1.000000</td>\n",
       "      <td>1.000000</td>\n",
       "      <td>20.000000</td>\n",
       "      <td>1970.000000</td>\n",
       "      <td>0.000000</td>\n",
       "      <td>0.000000</td>\n",
       "      <td>0.000000</td>\n",
       "      <td>-4.000000</td>\n",
       "      <td>-4.000000</td>\n",
       "      <td>...</td>\n",
       "      <td>0.000000</td>\n",
       "      <td>-36.000000</td>\n",
       "      <td>0.000000</td>\n",
       "      <td>0.000000</td>\n",
       "      <td>-19.000000</td>\n",
       "      <td>0.000000</td>\n",
       "      <td>1.000000</td>\n",
       "      <td>1.000000</td>\n",
       "      <td>0.500000</td>\n",
       "      <td>1970.000000</td>\n",
       "    </tr>\n",
       "    <tr>\n",
       "      <th>25%</th>\n",
       "      <td>77.000000</td>\n",
       "      <td>3.000000</td>\n",
       "      <td>78.000000</td>\n",
       "      <td>22.000000</td>\n",
       "      <td>1987.000000</td>\n",
       "      <td>0.000000</td>\n",
       "      <td>0.000000</td>\n",
       "      <td>0.000000</td>\n",
       "      <td>2.000000</td>\n",
       "      <td>2.000000</td>\n",
       "      <td>...</td>\n",
       "      <td>3.000000</td>\n",
       "      <td>11.000000</td>\n",
       "      <td>0.000000</td>\n",
       "      <td>4.000000</td>\n",
       "      <td>42.000000</td>\n",
       "      <td>0.000000</td>\n",
       "      <td>5.000000</td>\n",
       "      <td>1.000000</td>\n",
       "      <td>2.000000</td>\n",
       "      <td>1978.000000</td>\n",
       "    </tr>\n",
       "    <tr>\n",
       "      <th>50%</th>\n",
       "      <td>154.000000</td>\n",
       "      <td>6.000000</td>\n",
       "      <td>155.000000</td>\n",
       "      <td>23.000000</td>\n",
       "      <td>1998.000000</td>\n",
       "      <td>0.000000</td>\n",
       "      <td>0.000000</td>\n",
       "      <td>0.000000</td>\n",
       "      <td>9.000000</td>\n",
       "      <td>7.000000</td>\n",
       "      <td>...</td>\n",
       "      <td>21.000000</td>\n",
       "      <td>89.000000</td>\n",
       "      <td>0.000000</td>\n",
       "      <td>32.000000</td>\n",
       "      <td>308.000000</td>\n",
       "      <td>1.000000</td>\n",
       "      <td>22.000000</td>\n",
       "      <td>4.000000</td>\n",
       "      <td>5.000000</td>\n",
       "      <td>1989.000000</td>\n",
       "    </tr>\n",
       "    <tr>\n",
       "      <th>75%</th>\n",
       "      <td>231.000000</td>\n",
       "      <td>7.000000</td>\n",
       "      <td>232.000000</td>\n",
       "      <td>23.000000</td>\n",
       "      <td>2010.000000</td>\n",
       "      <td>0.000000</td>\n",
       "      <td>0.000000</td>\n",
       "      <td>2.000000</td>\n",
       "      <td>27.000000</td>\n",
       "      <td>20.000000</td>\n",
       "      <td>...</td>\n",
       "      <td>176.250000</td>\n",
       "      <td>654.250000</td>\n",
       "      <td>5.000000</td>\n",
       "      <td>125.000000</td>\n",
       "      <td>1351.000000</td>\n",
       "      <td>7.000000</td>\n",
       "      <td>121.000000</td>\n",
       "      <td>10.000000</td>\n",
       "      <td>14.000000</td>\n",
       "      <td>2002.000000</td>\n",
       "    </tr>\n",
       "    <tr>\n",
       "      <th>max</th>\n",
       "      <td>486.000000</td>\n",
       "      <td>7.000000</td>\n",
       "      <td>487.000000</td>\n",
       "      <td>29.000000</td>\n",
       "      <td>2016.000000</td>\n",
       "      <td>10.000000</td>\n",
       "      <td>14.000000</td>\n",
       "      <td>19.000000</td>\n",
       "      <td>177.000000</td>\n",
       "      <td>164.000000</td>\n",
       "      <td>...</td>\n",
       "      <td>4409.000000</td>\n",
       "      <td>18355.000000</td>\n",
       "      <td>164.000000</td>\n",
       "      <td>1549.000000</td>\n",
       "      <td>22895.000000</td>\n",
       "      <td>197.000000</td>\n",
       "      <td>1562.000000</td>\n",
       "      <td>71.000000</td>\n",
       "      <td>200.000000</td>\n",
       "      <td>2016.000000</td>\n",
       "    </tr>\n",
       "  </tbody>\n",
       "</table>\n",
       "<p>8 rows × 26 columns</p>\n",
       "</div>"
      ],
      "text/plain": [
       "         Unnamed: 0           Rnd          Pick           Age            To  \\\n",
       "count  14496.000000  14496.000000  14496.000000  10764.000000  10604.000000   \n",
       "mean     161.707230      4.934051    162.707230     22.546358   1997.805922   \n",
       "std      103.339683      2.140607    103.339683      0.839087     13.412670   \n",
       "min        0.000000      1.000000      1.000000     20.000000   1970.000000   \n",
       "25%       77.000000      3.000000     78.000000     22.000000   1987.000000   \n",
       "50%      154.000000      6.000000    155.000000     23.000000   1998.000000   \n",
       "75%      231.000000      7.000000    232.000000     23.000000   2010.000000   \n",
       "max      486.000000      7.000000    487.000000     29.000000   2016.000000   \n",
       "\n",
       "                AP1            PB            St         CarAV         DrAV  \\\n",
       "count  14496.000000  14496.000000  14496.000000  10604.000000  9237.000000   \n",
       "mean       0.066156      0.246896      1.694812     18.098642    14.734546   \n",
       "std        0.442916      1.044949      2.971706     22.572458    19.749418   \n",
       "min        0.000000      0.000000      0.000000     -4.000000    -4.000000   \n",
       "25%        0.000000      0.000000      0.000000      2.000000     2.000000   \n",
       "50%        0.000000      0.000000      0.000000      9.000000     7.000000   \n",
       "75%        0.000000      0.000000      2.000000     27.000000    20.000000   \n",
       "max       10.000000     14.000000     19.000000    177.000000   164.000000   \n",
       "\n",
       "       ...        Att.1         Yds.1         TD.1          Rec         Yds.2  \\\n",
       "count  ...  2660.000000   2660.000000  2660.000000  3260.000000   3260.000000   \n",
       "mean   ...   198.258647    804.769925     5.753383    98.712270   1181.051534   \n",
       "std    ...   437.977982   1837.234615    13.543353   158.606778   2114.059937   \n",
       "min    ...     0.000000    -36.000000     0.000000     0.000000    -19.000000   \n",
       "25%    ...     3.000000     11.000000     0.000000     4.000000     42.000000   \n",
       "50%    ...    21.000000     89.000000     0.000000    32.000000    308.000000   \n",
       "75%    ...   176.250000    654.250000     5.000000   125.000000   1351.000000   \n",
       "max    ...  4409.000000  18355.000000   164.000000  1549.000000  22895.000000   \n",
       "\n",
       "              TD.2          Tkl        Int.1           Sk          Year  \n",
       "count  3260.000000  3760.000000  2498.000000  2741.000000  14496.000000  \n",
       "mean      7.063497    95.646011     7.740993    12.660306   1990.385486  \n",
       "std      14.291188   155.177712     9.651464    20.168304     13.807347  \n",
       "min       0.000000     1.000000     1.000000     0.500000   1970.000000  \n",
       "25%       0.000000     5.000000     1.000000     2.000000   1978.000000  \n",
       "50%       1.000000    22.000000     4.000000     5.000000   1989.000000  \n",
       "75%       7.000000   121.000000    10.000000    14.000000   2002.000000  \n",
       "max     197.000000  1562.000000    71.000000   200.000000   2016.000000  \n",
       "\n",
       "[8 rows x 26 columns]"
      ]
     },
     "execution_count": 7,
     "metadata": {},
     "output_type": "execute_result"
    }
   ],
   "source": [
    "df.describe()"
   ]
  },
  {
   "cell_type": "markdown",
   "metadata": {},
   "source": [
    "# Data Analysis"
   ]
  },
  {
   "cell_type": "markdown",
   "metadata": {},
   "source": [
    "## Univariate Analysis - Age"
   ]
  },
  {
   "cell_type": "markdown",
   "metadata": {},
   "source": [
    "### First, clean up column if necessary"
   ]
  },
  {
   "cell_type": "code",
   "execution_count": 8,
   "metadata": {},
   "outputs": [],
   "source": [
    "age_data = df['Age']"
   ]
  },
  {
   "cell_type": "code",
   "execution_count": 9,
   "metadata": {},
   "outputs": [
    {
     "data": {
      "text/plain": [
       "True"
      ]
     },
     "execution_count": 9,
     "metadata": {},
     "output_type": "execute_result"
    }
   ],
   "source": [
    "age_data.isna().any()"
   ]
  },
  {
   "cell_type": "code",
   "execution_count": 10,
   "metadata": {},
   "outputs": [
    {
     "data": {
      "text/plain": [
       "3732"
      ]
     },
     "execution_count": 10,
     "metadata": {},
     "output_type": "execute_result"
    }
   ],
   "source": [
    "age_data.isna().sum()"
   ]
  },
  {
   "cell_type": "code",
   "execution_count": 11,
   "metadata": {},
   "outputs": [],
   "source": [
    "age_data.dropna(inplace=True)"
   ]
  },
  {
   "cell_type": "code",
   "execution_count": 12,
   "metadata": {},
   "outputs": [
    {
     "data": {
      "text/plain": [
       "(10764,)"
      ]
     },
     "execution_count": 12,
     "metadata": {},
     "output_type": "execute_result"
    }
   ],
   "source": [
    "age_data.shape"
   ]
  },
  {
   "cell_type": "markdown",
   "metadata": {},
   "source": [
    "### Use countplot to see distribution of ages"
   ]
  },
  {
   "cell_type": "code",
   "execution_count": 13,
   "metadata": {},
   "outputs": [],
   "source": [
    "import matplotlib.pyplot as plt\n",
    "import seaborn as sns"
   ]
  },
  {
   "cell_type": "code",
   "execution_count": 14,
   "metadata": {},
   "outputs": [
    {
     "data": {
      "text/plain": [
       "<matplotlib.axes._subplots.AxesSubplot at 0x1ef0aa81580>"
      ]
     },
     "execution_count": 14,
     "metadata": {},
     "output_type": "execute_result"
    },
    {
     "data": {
      "image/png": "[encoded data removed]",
      "text/plain": [
       "<Figure size 432x288 with 1 Axes>"
      ]
     },
     "metadata": {
      "needs_background": "light"
     },
     "output_type": "display_data"
    }
   ],
   "source": [
    "sns.countplot(age_data)"
   ]
  },
  {
   "cell_type": "markdown",
   "metadata": {},
   "source": [
    "### Use boxplot for another visualization of age"
   ]
  },
  {
   "cell_type": "code",
   "execution_count": 15,
   "metadata": {},
   "outputs": [
    {
     "data": {
      "text/plain": [
       "<matplotlib.axes._subplots.AxesSubplot at 0x1ef0d86ffd0>"
      ]
     },
     "execution_count": 15,
     "metadata": {},
     "output_type": "execute_result"
    },
    {
     "data": {
      "image/png": "[encoded data removed]",
      "text/plain": [
       "<Figure size 432x288 with 1 Axes>"
      ]
     },
     "metadata": {
      "needs_background": "light"
     },
     "output_type": "display_data"
    }
   ],
   "source": [
    "age_data.plot(kind='hist',\n",
    "             title='Ages of Draft Prospects')"
   ]
  },
  {
   "cell_type": "markdown",
   "metadata": {},
   "source": [
    "## Univariate analysis: Team"
   ]
  },
  {
   "cell_type": "markdown",
   "metadata": {},
   "source": [
    "### Use countplot to see distribution of teams"
   ]
  },
  {
   "cell_type": "code",
   "execution_count": 16,
   "metadata": {},
   "outputs": [],
   "source": [
    "team_data = df['Tm']"
   ]
  },
  {
   "cell_type": "code",
   "execution_count": 17,
   "metadata": {},
   "outputs": [
    {
     "data": {
      "text/plain": [
       "False"
      ]
     },
     "execution_count": 17,
     "metadata": {},
     "output_type": "execute_result"
    }
   ],
   "source": [
    "team_data.isna().any()"
   ]
  },
  {
   "cell_type": "code",
   "execution_count": 18,
   "metadata": {},
   "outputs": [
    {
     "data": {
      "text/plain": [
       "<matplotlib.axes._subplots.AxesSubplot at 0x1ef0d8eaa90>"
      ]
     },
     "execution_count": 18,
     "metadata": {},
     "output_type": "execute_result"
    },
    {
     "data": {
      "image/png": "[encoded data removed]",
      "text/plain": [
       "<Figure size 864x576 with 1 Axes>"
      ]
     },
     "metadata": {
      "needs_background": "light"
     },
     "output_type": "display_data"
    }
   ],
   "source": [
    "team_data.hist(bins=50, xrot=90, grid=False, figsize=(12,8))"
   ]
  },
  {
   "cell_type": "markdown",
   "metadata": {},
   "source": [
    "## Univariate Analysis - Find which teams have the most No. 1 overall picks"
   ]
  },
  {
   "cell_type": "code",
   "execution_count": 19,
   "metadata": {},
   "outputs": [],
   "source": [
    "firsts = df[(df['Pick'] == 1)]"
   ]
  },
  {
   "cell_type": "code",
   "execution_count": 20,
   "metadata": {},
   "outputs": [
    {
     "data": {
      "text/html": [
       "<div>\n",
       "<style scoped>\n",
       "    .dataframe tbody tr th:only-of-type {\n",
       "        vertical-align: middle;\n",
       "    }\n",
       "\n",
       "    .dataframe tbody tr th {\n",
       "        vertical-align: top;\n",
       "    }\n",
       "\n",
       "    .dataframe thead th {\n",
       "        text-align: right;\n",
       "    }\n",
       "</style>\n",
       "<table border=\"1\" class=\"dataframe\">\n",
       "  <thead>\n",
       "    <tr style=\"text-align: right;\">\n",
       "      <th></th>\n",
       "      <th>Unnamed: 0</th>\n",
       "      <th>Rnd</th>\n",
       "      <th>Pick</th>\n",
       "      <th>Tm</th>\n",
       "      <th>Player</th>\n",
       "      <th>Pos</th>\n",
       "      <th>Age</th>\n",
       "      <th>To</th>\n",
       "      <th>AP1</th>\n",
       "      <th>PB</th>\n",
       "      <th>...</th>\n",
       "      <th>Yds.1</th>\n",
       "      <th>TD.1</th>\n",
       "      <th>Rec</th>\n",
       "      <th>Yds.2</th>\n",
       "      <th>TD.2</th>\n",
       "      <th>Tkl</th>\n",
       "      <th>Int.1</th>\n",
       "      <th>Sk</th>\n",
       "      <th>College/Univ</th>\n",
       "      <th>Year</th>\n",
       "    </tr>\n",
       "  </thead>\n",
       "  <tbody>\n",
       "    <tr>\n",
       "      <th>0</th>\n",
       "      <td>0</td>\n",
       "      <td>1</td>\n",
       "      <td>1</td>\n",
       "      <td>PIT</td>\n",
       "      <td>Terry Bradshaw</td>\n",
       "      <td>QB</td>\n",
       "      <td>22.0</td>\n",
       "      <td>1983.0</td>\n",
       "      <td>1</td>\n",
       "      <td>3</td>\n",
       "      <td>...</td>\n",
       "      <td>2257.0</td>\n",
       "      <td>32.0</td>\n",
       "      <td>0.0</td>\n",
       "      <td>1.0</td>\n",
       "      <td>0.0</td>\n",
       "      <td>NaN</td>\n",
       "      <td>NaN</td>\n",
       "      <td>NaN</td>\n",
       "      <td>Louisiana Tech</td>\n",
       "      <td>1970</td>\n",
       "    </tr>\n",
       "    <tr>\n",
       "      <th>442</th>\n",
       "      <td>0</td>\n",
       "      <td>1</td>\n",
       "      <td>1</td>\n",
       "      <td>NWE</td>\n",
       "      <td>Jim Plunkett</td>\n",
       "      <td>QB</td>\n",
       "      <td>23.0</td>\n",
       "      <td>1986.0</td>\n",
       "      <td>0</td>\n",
       "      <td>0</td>\n",
       "      <td>...</td>\n",
       "      <td>1337.0</td>\n",
       "      <td>14.0</td>\n",
       "      <td>NaN</td>\n",
       "      <td>NaN</td>\n",
       "      <td>NaN</td>\n",
       "      <td>NaN</td>\n",
       "      <td>NaN</td>\n",
       "      <td>NaN</td>\n",
       "      <td>Stanford</td>\n",
       "      <td>1971</td>\n",
       "    </tr>\n",
       "    <tr>\n",
       "      <th>884</th>\n",
       "      <td>0</td>\n",
       "      <td>1</td>\n",
       "      <td>1</td>\n",
       "      <td>BUF</td>\n",
       "      <td>Walt Patulski</td>\n",
       "      <td>DE</td>\n",
       "      <td>22.0</td>\n",
       "      <td>1977.0</td>\n",
       "      <td>0</td>\n",
       "      <td>0</td>\n",
       "      <td>...</td>\n",
       "      <td>NaN</td>\n",
       "      <td>NaN</td>\n",
       "      <td>NaN</td>\n",
       "      <td>NaN</td>\n",
       "      <td>NaN</td>\n",
       "      <td>NaN</td>\n",
       "      <td>NaN</td>\n",
       "      <td>NaN</td>\n",
       "      <td>Notre Dame</td>\n",
       "      <td>1972</td>\n",
       "    </tr>\n",
       "    <tr>\n",
       "      <th>1326</th>\n",
       "      <td>0</td>\n",
       "      <td>1</td>\n",
       "      <td>1</td>\n",
       "      <td>HOU</td>\n",
       "      <td>John Matuszak</td>\n",
       "      <td>DE</td>\n",
       "      <td>22.0</td>\n",
       "      <td>1981.0</td>\n",
       "      <td>0</td>\n",
       "      <td>0</td>\n",
       "      <td>...</td>\n",
       "      <td>NaN</td>\n",
       "      <td>NaN</td>\n",
       "      <td>NaN</td>\n",
       "      <td>NaN</td>\n",
       "      <td>NaN</td>\n",
       "      <td>NaN</td>\n",
       "      <td>NaN</td>\n",
       "      <td>NaN</td>\n",
       "      <td>Tampa</td>\n",
       "      <td>1973</td>\n",
       "    </tr>\n",
       "    <tr>\n",
       "      <th>1768</th>\n",
       "      <td>0</td>\n",
       "      <td>1</td>\n",
       "      <td>1</td>\n",
       "      <td>DAL</td>\n",
       "      <td>Too Tall Jones</td>\n",
       "      <td>DE</td>\n",
       "      <td>23.0</td>\n",
       "      <td>1989.0</td>\n",
       "      <td>1</td>\n",
       "      <td>3</td>\n",
       "      <td>...</td>\n",
       "      <td>NaN</td>\n",
       "      <td>NaN</td>\n",
       "      <td>NaN</td>\n",
       "      <td>NaN</td>\n",
       "      <td>NaN</td>\n",
       "      <td>NaN</td>\n",
       "      <td>3.0</td>\n",
       "      <td>57.5</td>\n",
       "      <td>Tennessee St.</td>\n",
       "      <td>1974</td>\n",
       "    </tr>\n",
       "  </tbody>\n",
       "</table>\n",
       "<p>5 rows × 30 columns</p>\n",
       "</div>"
      ],
      "text/plain": [
       "      Unnamed: 0  Rnd  Pick   Tm          Player Pos   Age      To  AP1  PB  \\\n",
       "0              0    1     1  PIT  Terry Bradshaw  QB  22.0  1983.0    1   3   \n",
       "442            0    1     1  NWE    Jim Plunkett  QB  23.0  1986.0    0   0   \n",
       "884            0    1     1  BUF   Walt Patulski  DE  22.0  1977.0    0   0   \n",
       "1326           0    1     1  HOU   John Matuszak  DE  22.0  1981.0    0   0   \n",
       "1768           0    1     1  DAL  Too Tall Jones  DE  23.0  1989.0    1   3   \n",
       "\n",
       "      ...   Yds.1  TD.1  Rec  Yds.2  TD.2  Tkl  Int.1    Sk    College/Univ  \\\n",
       "0     ...  2257.0  32.0  0.0    1.0   0.0  NaN    NaN   NaN  Louisiana Tech   \n",
       "442   ...  1337.0  14.0  NaN    NaN   NaN  NaN    NaN   NaN        Stanford   \n",
       "884   ...     NaN   NaN  NaN    NaN   NaN  NaN    NaN   NaN      Notre Dame   \n",
       "1326  ...     NaN   NaN  NaN    NaN   NaN  NaN    NaN   NaN           Tampa   \n",
       "1768  ...     NaN   NaN  NaN    NaN   NaN  NaN    3.0  57.5   Tennessee St.   \n",
       "\n",
       "      Year  \n",
       "0     1970  \n",
       "442   1971  \n",
       "884   1972  \n",
       "1326  1973  \n",
       "1768  1974  \n",
       "\n",
       "[5 rows x 30 columns]"
      ]
     },
     "execution_count": 20,
     "metadata": {},
     "output_type": "execute_result"
    }
   ],
   "source": [
    "firsts.head()"
   ]
  },
  {
   "cell_type": "code",
   "execution_count": 21,
   "metadata": {},
   "outputs": [
    {
     "data": {
      "text/plain": [
       "<matplotlib.axes._subplots.AxesSubplot at 0x1ef0dc16af0>"
      ]
     },
     "execution_count": 21,
     "metadata": {},
     "output_type": "execute_result"
    },
    {
     "data": {
      "image/png": "[encoded data removed]",
      "text/plain": [
       "<Figure size 864x576 with 1 Axes>"
      ]
     },
     "metadata": {
      "needs_background": "light"
     },
     "output_type": "display_data"
    }
   ],
   "source": [
    "firsts_tm = firsts['Tm']\n",
    "firsts_tm.hist(bins=50, xrot=90, grid=False, figsize=(12,8))"
   ]
  },
  {
   "cell_type": "markdown",
   "metadata": {},
   "source": [
    "## Bivariate data: Find relationship between Pick round and Career Approx. Value"
   ]
  },
  {
   "cell_type": "markdown",
   "metadata": {},
   "source": [
    "### Clean up round and carav columns if necessary"
   ]
  },
  {
   "cell_type": "code",
   "execution_count": 22,
   "metadata": {},
   "outputs": [],
   "source": [
    "round = df['Rnd']"
   ]
  },
  {
   "cell_type": "code",
   "execution_count": 23,
   "metadata": {},
   "outputs": [
    {
     "data": {
      "text/plain": [
       "dtype('int64')"
      ]
     },
     "execution_count": 23,
     "metadata": {},
     "output_type": "execute_result"
    }
   ],
   "source": [
    "round.dtypes"
   ]
  },
  {
   "cell_type": "code",
   "execution_count": 24,
   "metadata": {},
   "outputs": [
    {
     "data": {
      "text/plain": [
       "(14496,)"
      ]
     },
     "execution_count": 24,
     "metadata": {},
     "output_type": "execute_result"
    }
   ],
   "source": [
    "round.shape"
   ]
  },
  {
   "cell_type": "code",
   "execution_count": 25,
   "metadata": {},
   "outputs": [
    {
     "data": {
      "text/plain": [
       "False"
      ]
     },
     "execution_count": 25,
     "metadata": {},
     "output_type": "execute_result"
    }
   ],
   "source": [
    "round.isna().any()"
   ]
  },
  {
   "cell_type": "code",
   "execution_count": 26,
   "metadata": {},
   "outputs": [],
   "source": [
    "carav = df['CarAV']"
   ]
  },
  {
   "cell_type": "code",
   "execution_count": 27,
   "metadata": {},
   "outputs": [
    {
     "data": {
      "text/plain": [
       "dtype('float64')"
      ]
     },
     "execution_count": 27,
     "metadata": {},
     "output_type": "execute_result"
    }
   ],
   "source": [
    "carav.dtypes"
   ]
  },
  {
   "cell_type": "code",
   "execution_count": 28,
   "metadata": {},
   "outputs": [
    {
     "data": {
      "text/plain": [
       "(14496,)"
      ]
     },
     "execution_count": 28,
     "metadata": {},
     "output_type": "execute_result"
    }
   ],
   "source": [
    "carav.shape"
   ]
  },
  {
   "cell_type": "code",
   "execution_count": 29,
   "metadata": {},
   "outputs": [
    {
     "data": {
      "text/plain": [
       "True"
      ]
     },
     "execution_count": 29,
     "metadata": {},
     "output_type": "execute_result"
    }
   ],
   "source": [
    "carav.isna().any()"
   ]
  },
  {
   "cell_type": "code",
   "execution_count": 30,
   "metadata": {},
   "outputs": [
    {
     "data": {
      "text/plain": [
       "3892"
      ]
     },
     "execution_count": 30,
     "metadata": {},
     "output_type": "execute_result"
    }
   ],
   "source": [
    "carav.isna().sum()"
   ]
  },
  {
   "cell_type": "markdown",
   "metadata": {},
   "source": [
    "### Use scatter plot to compare round to carav"
   ]
  },
  {
   "cell_type": "code",
   "execution_count": 31,
   "metadata": {},
   "outputs": [
    {
     "data": {
      "text/plain": [
       "Text(0.5, 1.0, 'Career Approximate Value based on Round Picked')"
      ]
     },
     "execution_count": 31,
     "metadata": {},
     "output_type": "execute_result"
    },
    {
     "data": {
      "image/png": "[encoded data removed]",
      "text/plain": [
       "<Figure size 432x288 with 1 Axes>"
      ]
     },
     "metadata": {
      "needs_background": "light"
     },
     "output_type": "display_data"
    }
   ],
   "source": [
    "data = [round, ]\n",
    "sns.scatterplot(x=round, y=carav).set_title('Career Approximate Value based on Round Picked')"
   ]
  },
  {
   "cell_type": "markdown",
   "metadata": {},
   "source": [
    "### While the plot above is interesting, it doesn't give any indication of each round's mean/median/mode. Let's try a dist plot for every round"
   ]
  },
  {
   "cell_type": "code",
   "execution_count": 32,
   "metadata": {},
   "outputs": [
    {
     "data": {
      "text/plain": [
       "<seaborn.axisgrid.FacetGrid at 0x1ef0db1be20>"
      ]
     },
     "execution_count": 32,
     "metadata": {},
     "output_type": "execute_result"
    },
    {
     "data": {
      "text/plain": [
       "<Figure size 864x576 with 0 Axes>"
      ]
     },
     "metadata": {},
     "output_type": "display_data"
    },
    {
     "data": {
      "image/png": "[encoded data removed]",
      "text/plain": [
       "<Figure size 618.375x576 with 1 Axes>"
      ]
     },
     "metadata": {
      "needs_background": "light"
     },
     "output_type": "display_data"
    }
   ],
   "source": [
    "plt.figure(figsize=(12,8))\n",
    "\n",
    "sns.FacetGrid(df, hue='Rnd', height=8)\\\n",
    "            .map(sns.distplot, 'CarAV')\\\n",
    "            .add_legend()"
   ]
  },
  {
   "cell_type": "markdown",
   "metadata": {},
   "source": [
    "### Violin plot comparing the carav of picks based on round"
   ]
  },
  {
   "cell_type": "code",
   "execution_count": 33,
   "metadata": {},
   "outputs": [
    {
     "data": {
      "text/plain": [
       "<matplotlib.axes._subplots.AxesSubplot at 0x1ef0e293820>"
      ]
     },
     "execution_count": 33,
     "metadata": {},
     "output_type": "execute_result"
    },
    {
     "data": {
      "image/png": "[encoded data removed]",
      "text/plain": [
       "<Figure size 864x576 with 1 Axes>"
      ]
     },
     "metadata": {
      "needs_background": "light"
     },
     "output_type": "display_data"
    }
   ],
   "source": [
    "plt.figure(figsize=(12,8))\n",
    "\n",
    "sns.violinplot(x = 'Rnd', y = 'CarAV', data = df)"
   ]
  },
  {
   "cell_type": "markdown",
   "metadata": {},
   "source": [
    "## Bivariate analysis: Find relationship between Round Picked and Number of Pro-Bowls Attended"
   ]
  },
  {
   "cell_type": "markdown",
   "metadata": {},
   "source": [
    "### Box plot comparing pro-bowl invites based on round"
   ]
  },
  {
   "cell_type": "code",
   "execution_count": 34,
   "metadata": {},
   "outputs": [
    {
     "data": {
      "text/plain": [
       "Text(0.5, 1.0, 'Number of Pro-Bowls based on Round Picked')"
      ]
     },
     "execution_count": 34,
     "metadata": {},
     "output_type": "execute_result"
    },
    {
     "data": {
      "image/png": "[encoded data removed]",
      "text/plain": [
       "<Figure size 432x288 with 1 Axes>"
      ]
     },
     "metadata": {
      "needs_background": "light"
     },
     "output_type": "display_data"
    }
   ],
   "source": [
    "sns.boxplot(x='Rnd', y='PB', data = df).set_title('Number of Pro-Bowls based on Round Picked')"
   ]
  },
  {
   "cell_type": "markdown",
   "metadata": {},
   "source": [
    "## Bivariate analysis: Find relationship between Round Picked and Number of Games Played"
   ]
  },
  {
   "cell_type": "code",
   "execution_count": 35,
   "metadata": {},
   "outputs": [
    {
     "data": {
      "text/plain": [
       "Text(0.5, 1.0, 'Games Played based on Round Picked')"
      ]
     },
     "execution_count": 35,
     "metadata": {},
     "output_type": "execute_result"
    },
    {
     "data": {
      "image/png": "[encoded data removed]",
      "text/plain": [
       "<Figure size 432x288 with 1 Axes>"
      ]
     },
     "metadata": {
      "needs_background": "light"
     },
     "output_type": "display_data"
    }
   ],
   "source": [
    "sns.boxplot(x='Rnd', y='G', data = df).set_title('Games Played based on Round Picked')"
   ]
  },
  {
   "cell_type": "markdown",
   "metadata": {},
   "source": [
    "# Questions for Further Analysis"
   ]
  },
  {
   "cell_type": "markdown",
   "metadata": {},
   "source": [
    "### What is the relationship between draft prospects' total yards and round picked?"
   ]
  },
  {
   "cell_type": "markdown",
   "metadata": {},
   "source": [
    "### What is the relationship between draft prospects' total interceptions and round picked?"
   ]
  },
  {
   "cell_type": "markdown",
   "metadata": {},
   "source": [
    "### What is the relationship between draft prospects' total yards and number of games played?"
   ]
  },
  {
   "cell_type": "markdown",
   "metadata": {},
   "source": [
    "### What is the relationship between draft prospects' total interceptions and number of games played?"
   ]
  }
 ],
 "metadata": {
  "kernelspec": {
   "display_name": "Python 3",
   "language": "python",
   "name": "python3"
  },
  "language_info": {
   "codemirror_mode": {
    "name": "ipython",
    "version": 3
   },
   "file_extension": ".py",
   "mimetype": "text/x-python",
   "name": "python",
   "nbconvert_exporter": "python",
   "pygments_lexer": "ipython3",
   "version": "3.8.3"
  }
 },
 "nbformat": 4,
 "nbformat_minor": 4
}
