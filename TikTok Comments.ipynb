{
 "cells": [
  {
   "cell_type": "markdown",
   "metadata": {},
   "source": [
    "# General Exploration"
   ]
  },
  {
   "cell_type": "code",
   "execution_count": 1,
   "metadata": {},
   "outputs": [],
   "source": [
    "import numpy as np\n",
    "import pandas as pd"
   ]
  },
  {
   "cell_type": "code",
   "execution_count": 3,
   "metadata": {},
   "outputs": [],
   "source": [
    "df = pd.read_csv('final_data.csv', low_memory=False)"
   ]
  },
  {
   "cell_type": "code",
   "execution_count": 4,
   "metadata": {},
   "outputs": [
    {
     "data": {
      "text/html": [
       "<div>\n",
       "<style scoped>\n",
       "    .dataframe tbody tr th:only-of-type {\n",
       "        vertical-align: middle;\n",
       "    }\n",
       "\n",
       "    .dataframe tbody tr th {\n",
       "        vertical-align: top;\n",
       "    }\n",
       "\n",
       "    .dataframe thead th {\n",
       "        text-align: right;\n",
       "    }\n",
       "</style>\n",
       "<table border=\"1\" class=\"dataframe\">\n",
       "  <thead>\n",
       "    <tr style=\"text-align: right;\">\n",
       "      <th></th>\n",
       "      <th>comment_id</th>\n",
       "      <th>text</th>\n",
       "      <th>video_id</th>\n",
       "      <th>create_time</th>\n",
       "      <th>like_count</th>\n",
       "      <th>status</th>\n",
       "      <th>author.unique_id</th>\n",
       "      <th>author.nickname</th>\n",
       "      <th>author.is_private</th>\n",
       "      <th>author.language</th>\n",
       "      <th>author.signature</th>\n",
       "      <th>author.custom_verify</th>\n",
       "      <th>author.uid</th>\n",
       "      <th>author.sec_uid</th>\n",
       "      <th>author.avatar_thumb</th>\n",
       "      <th>author.region</th>\n",
       "      <th>author.ins_id</th>\n",
       "      <th>author.youtube_channel_title</th>\n",
       "      <th>author.youtube_channel_id</th>\n",
       "      <th>author.twitter_id</th>\n",
       "    </tr>\n",
       "  </thead>\n",
       "  <tbody>\n",
       "    <tr>\n",
       "      <th>0</th>\n",
       "      <td>6816879848683438085</td>\n",
       "      <td>But are you giving him a Tesla? Because he des...</td>\n",
       "      <td>6816821384652557574</td>\n",
       "      <td>1587178528</td>\n",
       "      <td>161</td>\n",
       "      <td>1</td>\n",
       "      <td>lissettecalv</td>\n",
       "      <td>Lissette | Influencer Coach</td>\n",
       "      <td>False</td>\n",
       "      <td>en</td>\n",
       "      <td>How to BUILD &amp; MONETIZE a digital biz with pur...</td>\n",
       "      <td>Verified account</td>\n",
       "      <td>133202372536832000</td>\n",
       "      <td>MS4wLjABAAAAbX7SywQS04x1ilOoKHrpTZqhQ6lD32nRC6...</td>\n",
       "      <td>https://p77-sign-sg.tiktokcdn.com/musically-ma...</td>\n",
       "      <td>US</td>\n",
       "      <td>lissettecalv</td>\n",
       "      <td>NaN</td>\n",
       "      <td>NaN</td>\n",
       "      <td>NaN</td>\n",
       "    </tr>\n",
       "    <tr>\n",
       "      <th>1</th>\n",
       "      <td>6816846992812015622</td>\n",
       "      <td>David was just hoping for some help 😢</td>\n",
       "      <td>6816821384652557574</td>\n",
       "      <td>1587170875</td>\n",
       "      <td>1165</td>\n",
       "      <td>1</td>\n",
       "      <td>hellomyfriend0_o</td>\n",
       "      <td>Isaac micallef</td>\n",
       "      <td>True</td>\n",
       "      <td>en</td>\n",
       "      <td>In bed watching Tiktok video's 😴</td>\n",
       "      <td>NaN</td>\n",
       "      <td>6744596691107824645</td>\n",
       "      <td>MS4wLjABAAAADslkcxnt1mqt2oQwQEK8d0ybBHPuCO-geV...</td>\n",
       "      <td>https://p77-sign-sg.tiktokcdn.com/musically-ma...</td>\n",
       "      <td>MT</td>\n",
       "      <td>NaN</td>\n",
       "      <td>NaN</td>\n",
       "      <td>NaN</td>\n",
       "      <td>NaN</td>\n",
       "    </tr>\n",
       "    <tr>\n",
       "      <th>2</th>\n",
       "      <td>6816942564911628294</td>\n",
       "      <td>We ain’t forgot that time he tricked us all in...</td>\n",
       "      <td>6816821384652557574</td>\n",
       "      <td>1587193131</td>\n",
       "      <td>249</td>\n",
       "      <td>1</td>\n",
       "      <td>briancarrion_</td>\n",
       "      <td>Briancarrion</td>\n",
       "      <td>False</td>\n",
       "      <td>en</td>\n",
       "      <td>Might make you cringe 🤷🏽‍♂️\\n🇻🇪</td>\n",
       "      <td>Verified account</td>\n",
       "      <td>2165547</td>\n",
       "      <td>MS4wLjABAAAAKH09hef-gLcTyrzYygfGHMazAhFaLMML7-...</td>\n",
       "      <td>https://p16-sign-sg.tiktokcdn.com/musically-ma...</td>\n",
       "      <td>US</td>\n",
       "      <td>brian.carrion_</td>\n",
       "      <td>NaN</td>\n",
       "      <td>NaN</td>\n",
       "      <td>NaN</td>\n",
       "    </tr>\n",
       "    <tr>\n",
       "      <th>3</th>\n",
       "      <td>6816824764519301125</td>\n",
       "      <td>get him a tesla</td>\n",
       "      <td>6816821384652557574</td>\n",
       "      <td>1587165700</td>\n",
       "      <td>4038</td>\n",
       "      <td>1</td>\n",
       "      <td>slumpgodkayy</td>\n",
       "      <td>kaykay the slumpgod</td>\n",
       "      <td>False</td>\n",
       "      <td>en</td>\n",
       "      <td>👻:@ kaykayyishere\\nfollow my instagram💖</td>\n",
       "      <td>NaN</td>\n",
       "      <td>6586423495932313605</td>\n",
       "      <td>MS4wLjABAAAAI1dyIIb3qlBf3LhqS3-OJITdYuc3OcWlsd...</td>\n",
       "      <td>https://p16-sign-sg.tiktokcdn.com/musically-ma...</td>\n",
       "      <td>US</td>\n",
       "      <td>kaylemraley</td>\n",
       "      <td>NaN</td>\n",
       "      <td>NaN</td>\n",
       "      <td>NaN</td>\n",
       "    </tr>\n",
       "    <tr>\n",
       "      <th>4</th>\n",
       "      <td>6816821633249001477</td>\n",
       "      <td>david ur so hung</td>\n",
       "      <td>6816821384652557574</td>\n",
       "      <td>1587164971</td>\n",
       "      <td>100</td>\n",
       "      <td>1</td>\n",
       "      <td>_4den</td>\n",
       "      <td>dad</td>\n",
       "      <td>False</td>\n",
       "      <td>en</td>\n",
       "      <td>x kinda fell off</td>\n",
       "      <td>NaN</td>\n",
       "      <td>6740418744587650054</td>\n",
       "      <td>MS4wLjABAAAAykXQ0pVI4w-y3kI1omvYzOH2xnJN0iP3lf...</td>\n",
       "      <td>https://p77-sign-sg.tiktokcdn.com/tos-maliva-a...</td>\n",
       "      <td>US</td>\n",
       "      <td>_4den</td>\n",
       "      <td>aden burgess</td>\n",
       "      <td>UCe3pSCjGls_hByctWn91rqw</td>\n",
       "      <td>NaN</td>\n",
       "    </tr>\n",
       "  </tbody>\n",
       "</table>\n",
       "</div>"
      ],
      "text/plain": [
       "            comment_id                                               text  \\\n",
       "0  6816879848683438085  But are you giving him a Tesla? Because he des...   \n",
       "1  6816846992812015622              David was just hoping for some help 😢   \n",
       "2  6816942564911628294  We ain’t forgot that time he tricked us all in...   \n",
       "3  6816824764519301125                                    get him a tesla   \n",
       "4  6816821633249001477                                   david ur so hung   \n",
       "\n",
       "              video_id  create_time  like_count  status  author.unique_id  \\\n",
       "0  6816821384652557574   1587178528         161       1      lissettecalv   \n",
       "1  6816821384652557574   1587170875        1165       1  hellomyfriend0_o   \n",
       "2  6816821384652557574   1587193131         249       1     briancarrion_   \n",
       "3  6816821384652557574   1587165700        4038       1      slumpgodkayy   \n",
       "4  6816821384652557574   1587164971         100       1             _4den   \n",
       "\n",
       "               author.nickname  author.is_private author.language  \\\n",
       "0  Lissette | Influencer Coach              False              en   \n",
       "1               Isaac micallef               True              en   \n",
       "2                 Briancarrion              False              en   \n",
       "3          kaykay the slumpgod              False              en   \n",
       "4                          dad              False              en   \n",
       "\n",
       "                                    author.signature author.custom_verify  \\\n",
       "0  How to BUILD & MONETIZE a digital biz with pur...     Verified account   \n",
       "1                   In bed watching Tiktok video's 😴                  NaN   \n",
       "2                    Might make you cringe 🤷🏽‍♂️\\n🇻🇪     Verified account   \n",
       "3            👻:@ kaykayyishere\\nfollow my instagram💖                  NaN   \n",
       "4                                   x kinda fell off                  NaN   \n",
       "\n",
       "            author.uid                                     author.sec_uid  \\\n",
       "0   133202372536832000  MS4wLjABAAAAbX7SywQS04x1ilOoKHrpTZqhQ6lD32nRC6...   \n",
       "1  6744596691107824645  MS4wLjABAAAADslkcxnt1mqt2oQwQEK8d0ybBHPuCO-geV...   \n",
       "2              2165547  MS4wLjABAAAAKH09hef-gLcTyrzYygfGHMazAhFaLMML7-...   \n",
       "3  6586423495932313605  MS4wLjABAAAAI1dyIIb3qlBf3LhqS3-OJITdYuc3OcWlsd...   \n",
       "4  6740418744587650054  MS4wLjABAAAAykXQ0pVI4w-y3kI1omvYzOH2xnJN0iP3lf...   \n",
       "\n",
       "                                 author.avatar_thumb author.region  \\\n",
       "0  https://p77-sign-sg.tiktokcdn.com/musically-ma...            US   \n",
       "1  https://p77-sign-sg.tiktokcdn.com/musically-ma...            MT   \n",
       "2  https://p16-sign-sg.tiktokcdn.com/musically-ma...            US   \n",
       "3  https://p16-sign-sg.tiktokcdn.com/musically-ma...            US   \n",
       "4  https://p77-sign-sg.tiktokcdn.com/tos-maliva-a...            US   \n",
       "\n",
       "    author.ins_id author.youtube_channel_title author.youtube_channel_id  \\\n",
       "0    lissettecalv                          NaN                       NaN   \n",
       "1             NaN                          NaN                       NaN   \n",
       "2  brian.carrion_                          NaN                       NaN   \n",
       "3     kaylemraley                          NaN                       NaN   \n",
       "4           _4den                 aden burgess  UCe3pSCjGls_hByctWn91rqw   \n",
       "\n",
       "   author.twitter_id  \n",
       "0                NaN  \n",
       "1                NaN  \n",
       "2                NaN  \n",
       "3                NaN  \n",
       "4                NaN  "
      ]
     },
     "execution_count": 4,
     "metadata": {},
     "output_type": "execute_result"
    }
   ],
   "source": [
    "df.head()"
   ]
  },
  {
   "cell_type": "code",
   "execution_count": 5,
   "metadata": {},
   "outputs": [
    {
     "data": {
      "text/plain": [
       "(165110, 20)"
      ]
     },
     "execution_count": 5,
     "metadata": {},
     "output_type": "execute_result"
    }
   ],
   "source": [
    "df.shape"
   ]
  },
  {
   "cell_type": "code",
   "execution_count": 6,
   "metadata": {},
   "outputs": [
    {
     "name": "stdout",
     "output_type": "stream",
     "text": [
      "<class 'pandas.core.frame.DataFrame'>\n",
      "RangeIndex: 165110 entries, 0 to 165109\n",
      "Data columns (total 20 columns):\n",
      " #   Column                        Non-Null Count   Dtype  \n",
      "---  ------                        --------------   -----  \n",
      " 0   comment_id                    165110 non-null  int64  \n",
      " 1   text                          165110 non-null  object \n",
      " 2   video_id                      165110 non-null  int64  \n",
      " 3   create_time                   165110 non-null  int64  \n",
      " 4   like_count                    165110 non-null  int64  \n",
      " 5   status                        165110 non-null  int64  \n",
      " 6   author.unique_id              165110 non-null  object \n",
      " 7   author.nickname               165110 non-null  object \n",
      " 8   author.is_private             165110 non-null  bool   \n",
      " 9   author.language               165110 non-null  object \n",
      " 10  author.signature              126232 non-null  object \n",
      " 11  author.custom_verify          746 non-null     object \n",
      " 12  author.uid                    165110 non-null  int64  \n",
      " 13  author.sec_uid                165110 non-null  object \n",
      " 14  author.avatar_thumb           165110 non-null  object \n",
      " 15  author.region                 164975 non-null  object \n",
      " 16  author.ins_id                 50110 non-null   object \n",
      " 17  author.youtube_channel_title  19476 non-null   object \n",
      " 18  author.youtube_channel_id     19476 non-null   object \n",
      " 19  author.twitter_id             98 non-null      float64\n",
      "dtypes: bool(1), float64(1), int64(6), object(12)\n",
      "memory usage: 24.1+ MB\n"
     ]
    }
   ],
   "source": [
    "df.info()"
   ]
  },
  {
   "cell_type": "code",
   "execution_count": 8,
   "metadata": {},
   "outputs": [
    {
     "data": {
      "text/plain": [
       "comment_id                        int64\n",
       "text                             object\n",
       "video_id                          int64\n",
       "create_time                       int64\n",
       "like_count                        int64\n",
       "status                            int64\n",
       "author.unique_id                 object\n",
       "author.nickname                  object\n",
       "author.is_private                  bool\n",
       "author.language                  object\n",
       "author.signature                 object\n",
       "author.custom_verify             object\n",
       "author.uid                        int64\n",
       "author.sec_uid                   object\n",
       "author.avatar_thumb              object\n",
       "author.region                    object\n",
       "author.ins_id                    object\n",
       "author.youtube_channel_title     object\n",
       "author.youtube_channel_id        object\n",
       "author.twitter_id               float64\n",
       "dtype: object"
      ]
     },
     "execution_count": 8,
     "metadata": {},
     "output_type": "execute_result"
    }
   ],
   "source": [
    "df.dtypes"
   ]
  },
  {
   "cell_type": "code",
   "execution_count": 10,
   "metadata": {},
   "outputs": [
    {
     "data": {
      "text/html": [
       "<div>\n",
       "<style scoped>\n",
       "    .dataframe tbody tr th:only-of-type {\n",
       "        vertical-align: middle;\n",
       "    }\n",
       "\n",
       "    .dataframe tbody tr th {\n",
       "        vertical-align: top;\n",
       "    }\n",
       "\n",
       "    .dataframe thead th {\n",
       "        text-align: right;\n",
       "    }\n",
       "</style>\n",
       "<table border=\"1\" class=\"dataframe\">\n",
       "  <thead>\n",
       "    <tr style=\"text-align: right;\">\n",
       "      <th></th>\n",
       "      <th>like_count</th>\n",
       "      <th>status</th>\n",
       "    </tr>\n",
       "  </thead>\n",
       "  <tbody>\n",
       "    <tr>\n",
       "      <th>count</th>\n",
       "      <td>165110.000000</td>\n",
       "      <td>165110.0</td>\n",
       "    </tr>\n",
       "    <tr>\n",
       "      <th>mean</th>\n",
       "      <td>74.972588</td>\n",
       "      <td>1.0</td>\n",
       "    </tr>\n",
       "    <tr>\n",
       "      <th>std</th>\n",
       "      <td>3593.935284</td>\n",
       "      <td>0.0</td>\n",
       "    </tr>\n",
       "    <tr>\n",
       "      <th>min</th>\n",
       "      <td>0.000000</td>\n",
       "      <td>1.0</td>\n",
       "    </tr>\n",
       "    <tr>\n",
       "      <th>25%</th>\n",
       "      <td>0.000000</td>\n",
       "      <td>1.0</td>\n",
       "    </tr>\n",
       "    <tr>\n",
       "      <th>50%</th>\n",
       "      <td>3.000000</td>\n",
       "      <td>1.0</td>\n",
       "    </tr>\n",
       "    <tr>\n",
       "      <th>75%</th>\n",
       "      <td>19.000000</td>\n",
       "      <td>1.0</td>\n",
       "    </tr>\n",
       "    <tr>\n",
       "      <th>max</th>\n",
       "      <td>773983.000000</td>\n",
       "      <td>1.0</td>\n",
       "    </tr>\n",
       "  </tbody>\n",
       "</table>\n",
       "</div>"
      ],
      "text/plain": [
       "          like_count    status\n",
       "count  165110.000000  165110.0\n",
       "mean       74.972588       1.0\n",
       "std      3593.935284       0.0\n",
       "min         0.000000       1.0\n",
       "25%         0.000000       1.0\n",
       "50%         3.000000       1.0\n",
       "75%        19.000000       1.0\n",
       "max    773983.000000       1.0"
      ]
     },
     "execution_count": 10,
     "metadata": {},
     "output_type": "execute_result"
    }
   ],
   "source": [
    "df[['like_count', 'status']].describe()"
   ]
  },
  {
   "cell_type": "markdown",
   "metadata": {},
   "source": [
    "# Descriptive Statistics"
   ]
  },
  {
   "cell_type": "markdown",
   "metadata": {},
   "source": [
    "## Primary analysis: 'like_count' column"
   ]
  },
  {
   "cell_type": "markdown",
   "metadata": {},
   "source": [
    "### First, clean up column if necessary"
   ]
  },
  {
   "cell_type": "code",
   "execution_count": 11,
   "metadata": {},
   "outputs": [],
   "source": [
    "likes = df['like_count']"
   ]
  },
  {
   "cell_type": "code",
   "execution_count": 12,
   "metadata": {},
   "outputs": [
    {
     "data": {
      "text/plain": [
       "0     161\n",
       "1    1165\n",
       "2     249\n",
       "3    4038\n",
       "4     100\n",
       "Name: like_count, dtype: int64"
      ]
     },
     "execution_count": 12,
     "metadata": {},
     "output_type": "execute_result"
    }
   ],
   "source": [
    "likes.head()"
   ]
  },
  {
   "cell_type": "code",
   "execution_count": 15,
   "metadata": {},
   "outputs": [
    {
     "data": {
      "text/plain": [
       "False"
      ]
     },
     "execution_count": 15,
     "metadata": {},
     "output_type": "execute_result"
    }
   ],
   "source": [
    "likes.isnull().any()"
   ]
  },
  {
   "cell_type": "code",
   "execution_count": 16,
   "metadata": {},
   "outputs": [
    {
     "data": {
      "text/plain": [
       "(165110,)"
      ]
     },
     "execution_count": 16,
     "metadata": {},
     "output_type": "execute_result"
    }
   ],
   "source": [
    "likes.shape"
   ]
  },
  {
   "cell_type": "markdown",
   "metadata": {},
   "source": [
    "### Get description of likes column"
   ]
  },
  {
   "cell_type": "code",
   "execution_count": 17,
   "metadata": {},
   "outputs": [],
   "source": [
    "import scipy\n",
    "import numpy as np\n",
    "import pandas as pd\n",
    "import seaborn as sns\n",
    "\n",
    "from scipy import stats\n",
    "import statsmodels.api as sm\n",
    "import matplotlib.pyplot as plt"
   ]
  },
  {
   "cell_type": "code",
   "execution_count": 19,
   "metadata": {},
   "outputs": [
    {
     "data": {
      "text/plain": [
       "DescribeResult(nobs=165110, minmax=(0, 773983), mean=74.97258797165526, variance=12916370.823613083, skewness=141.37010868809872, kurtosis=25014.44171666974)"
      ]
     },
     "execution_count": 19,
     "metadata": {},
     "output_type": "execute_result"
    }
   ],
   "source": [
    "stats.describe(likes)"
   ]
  },
  {
   "cell_type": "code",
   "execution_count": 21,
   "metadata": {},
   "outputs": [
    {
     "data": {
      "text/plain": [
       "3593.9352837263336"
      ]
     },
     "execution_count": 21,
     "metadata": {},
     "output_type": "execute_result"
    }
   ],
   "source": [
    "stats.tstd(likes)"
   ]
  },
  {
   "cell_type": "markdown",
   "metadata": {},
   "source": [
    "### Histogram plot of likes column"
   ]
  },
  {
   "cell_type": "code",
   "execution_count": 22,
   "metadata": {},
   "outputs": [
    {
     "data": {
      "text/plain": [
       "<matplotlib.axes._subplots.AxesSubplot at 0x16f4a5b4c40>"
      ]
     },
     "execution_count": 22,
     "metadata": {},
     "output_type": "execute_result"
    },
    {
     "data": {
      "image/png": "[encoded data removed]",
      "text/plain": [
       "<Figure size 432x288 with 1 Axes>"
      ]
     },
     "metadata": {
      "needs_background": "light"
     },
     "output_type": "display_data"
    }
   ],
   "source": [
    "likes.plot(kind = 'hist',\n",
    "          title = 'Like Count Histogram')"
   ]
  },
  {
   "cell_type": "markdown",
   "metadata": {},
   "source": [
    "### It seems like there may be one outlier in the likes column (773983 likes). Let's remove it and redo the statistical description"
   ]
  },
  {
   "cell_type": "code",
   "execution_count": 36,
   "metadata": {},
   "outputs": [],
   "source": [
    "likes_low = likes.drop(np.where(likes == 773983)[0][0])"
   ]
  },
  {
   "cell_type": "code",
   "execution_count": 37,
   "metadata": {},
   "outputs": [
    {
     "data": {
      "text/plain": [
       "DescribeResult(nobs=165109, minmax=(0, 694879), mean=70.28533271959736, variance=9288900.646356875, skewness=132.6463543018583, kurtosis=23189.807401682636)"
      ]
     },
     "execution_count": 37,
     "metadata": {},
     "output_type": "execute_result"
    }
   ],
   "source": [
    "stats.describe(likes_low)"
   ]
  },
  {
   "cell_type": "code",
   "execution_count": 38,
   "metadata": {},
   "outputs": [
    {
     "data": {
      "text/plain": [
       "<matplotlib.axes._subplots.AxesSubplot at 0x16f4b309550>"
      ]
     },
     "execution_count": 38,
     "metadata": {},
     "output_type": "execute_result"
    },
    {
     "data": {
      "image/png": "[encoded data removed]",
      "text/plain": [
       "<Figure size 432x288 with 1 Axes>"
      ]
     },
     "metadata": {
      "needs_background": "light"
     },
     "output_type": "display_data"
    }
   ],
   "source": [
    "likes_low.plot(kind = 'hist',\n",
    "          title = 'Like Count Histogram')"
   ]
  },
  {
   "cell_type": "markdown",
   "metadata": {},
   "source": [
    "### There still seem to be several outliers. Let's remove them using the scipy package"
   ]
  },
  {
   "cell_type": "code",
   "execution_count": 45,
   "metadata": {},
   "outputs": [],
   "source": [
    "likes_no_outliers = likes[(np.abs(stats.zscore(likes)) < 3)]"
   ]
  },
  {
   "cell_type": "code",
   "execution_count": 46,
   "metadata": {},
   "outputs": [
    {
     "data": {
      "text/plain": [
       "0     161\n",
       "1    1165\n",
       "2     249\n",
       "3    4038\n",
       "4     100\n",
       "Name: like_count, dtype: int64"
      ]
     },
     "execution_count": 46,
     "metadata": {},
     "output_type": "execute_result"
    }
   ],
   "source": [
    "likes_no_outliers.head()"
   ]
  },
  {
   "cell_type": "code",
   "execution_count": 47,
   "metadata": {},
   "outputs": [
    {
     "data": {
      "text/plain": [
       "(165000,)"
      ]
     },
     "execution_count": 47,
     "metadata": {},
     "output_type": "execute_result"
    }
   ],
   "source": [
    "likes_no_outliers.shape"
   ]
  },
  {
   "cell_type": "code",
   "execution_count": 48,
   "metadata": {},
   "outputs": [
    {
     "data": {
      "text/plain": [
       "DescribeResult(nobs=165000, minmax=(0, 10662), mean=24.582157575757577, variance=43653.35596138101, skewness=29.4582103284369, kurtosis=1032.3375719114279)"
      ]
     },
     "execution_count": 48,
     "metadata": {},
     "output_type": "execute_result"
    }
   ],
   "source": [
    "stats.describe(likes_no_outliers)"
   ]
  },
  {
   "cell_type": "code",
   "execution_count": 56,
   "metadata": {},
   "outputs": [
    {
     "data": {
      "text/plain": [
       "<matplotlib.axes._subplots.AxesSubplot at 0x16f4e39e3a0>"
      ]
     },
     "execution_count": 56,
     "metadata": {},
     "output_type": "execute_result"
    },
    {
     "data": {
      "image/png": "[encoded data removed]",
      "text/plain": [
       "<Figure size 432x288 with 1 Axes>"
      ]
     },
     "metadata": {
      "needs_background": "light"
     },
     "output_type": "display_data"
    }
   ],
   "source": [
    "likes_no_outliers.plot(kind = 'hist',\n",
    "            bins = 10,\n",
    "            title = 'Like Count Histogram')"
   ]
  },
  {
   "cell_type": "markdown",
   "metadata": {},
   "source": [
    "### The above graph (with no outliers) makes evident the fact that there is a large number of comments with a like count between 0 and 1000. Let's look at just these comments in a histogram"
   ]
  },
  {
   "cell_type": "code",
   "execution_count": 72,
   "metadata": {},
   "outputs": [],
   "source": [
    "likes_below_1000 = likes[(likes <= 1000)]"
   ]
  },
  {
   "cell_type": "code",
   "execution_count": 61,
   "metadata": {},
   "outputs": [
    {
     "data": {
      "text/plain": [
       "(164585,)"
      ]
     },
     "execution_count": 61,
     "metadata": {},
     "output_type": "execute_result"
    }
   ],
   "source": [
    "likes_below_1000.shape"
   ]
  },
  {
   "cell_type": "code",
   "execution_count": 62,
   "metadata": {},
   "outputs": [
    {
     "data": {
      "text/plain": [
       "DescribeResult(nobs=164585, minmax=(0, 997), mean=16.094145882067018, variance=1668.3952523304656, skewness=10.355058149143717, kurtosis=165.59892707420207)"
      ]
     },
     "execution_count": 62,
     "metadata": {},
     "output_type": "execute_result"
    }
   ],
   "source": [
    "stats.describe(likes_below_1000)"
   ]
  },
  {
   "cell_type": "code",
   "execution_count": 65,
   "metadata": {},
   "outputs": [
    {
     "data": {
      "text/plain": [
       "<matplotlib.axes._subplots.AxesSubplot at 0x16f4da11940>"
      ]
     },
     "execution_count": 65,
     "metadata": {},
     "output_type": "execute_result"
    },
    {
     "data": {
      "image/png": "[encoded data removed]",
      "text/plain": [
       "<Figure size 432x288 with 1 Axes>"
      ]
     },
     "metadata": {
      "needs_background": "light"
     },
     "output_type": "display_data"
    }
   ],
   "source": [
    "likes_below_1000.plot(kind = 'hist',\n",
    "            bins = 15,\n",
    "            title = 'Like Count Histogram')"
   ]
  },
  {
   "cell_type": "markdown",
   "metadata": {},
   "source": [
    "### It is evident that the majority of like counts are between 1 and 100. A box plot will give a better overview of data."
   ]
  },
  {
   "cell_type": "code",
   "execution_count": 64,
   "metadata": {},
   "outputs": [
    {
     "data": {
      "text/plain": [
       "<matplotlib.axes._subplots.AxesSubplot at 0x16f4e9908b0>"
      ]
     },
     "execution_count": 64,
     "metadata": {},
     "output_type": "execute_result"
    },
    {
     "data": {
      "image/png": "[encoded data removed]",
      "text/plain": [
       "<Figure size 432x288 with 1 Axes>"
      ]
     },
     "metadata": {
      "needs_background": "light"
     },
     "output_type": "display_data"
    }
   ],
   "source": [
    "likes.plot(kind='box',\n",
    "          title='Like Count Box-plot')"
   ]
  },
  {
   "cell_type": "markdown",
   "metadata": {},
   "source": [
    "### In the plot above, it's difficult to know where the box is. Try again with the no outliers dataframe"
   ]
  },
  {
   "cell_type": "code",
   "execution_count": 66,
   "metadata": {},
   "outputs": [
    {
     "data": {
      "text/plain": [
       "<matplotlib.axes._subplots.AxesSubplot at 0x16f4da57d60>"
      ]
     },
     "execution_count": 66,
     "metadata": {},
     "output_type": "execute_result"
    },
    {
     "data": {
      "image/png": "[encoded data removed]",
      "text/plain": [
       "<Figure size 432x288 with 1 Axes>"
      ]
     },
     "metadata": {
      "needs_background": "light"
     },
     "output_type": "display_data"
    }
   ],
   "source": [
    "likes_no_outliers.plot(kind='box', title='Like Count Box-plot')"
   ]
  },
  {
   "cell_type": "markdown",
   "metadata": {},
   "source": [
    "### The circles indicate that there are still several outliers in the 'no outliers' Series. Let's try a Series where like counts are less than 150 to be able to see the median, quartiles, and max/min barring outliers"
   ]
  },
  {
   "cell_type": "code",
   "execution_count": 73,
   "metadata": {},
   "outputs": [],
   "source": [
    "likes_below_150 = likes[likes <= 150]"
   ]
  },
  {
   "cell_type": "code",
   "execution_count": 74,
   "metadata": {
    "scrolled": true
   },
   "outputs": [
    {
     "data": {
      "text/plain": [
       "<matplotlib.axes._subplots.AxesSubplot at 0x16f4ed08280>"
      ]
     },
     "execution_count": 74,
     "metadata": {},
     "output_type": "execute_result"
    },
    {
     "data": {
      "image/png": "[encoded data removed]",
      "text/plain": [
       "<Figure size 432x288 with 1 Axes>"
      ]
     },
     "metadata": {
      "needs_background": "light"
     },
     "output_type": "display_data"
    }
   ],
   "source": [
    "likes_below_150.plot(kind='box', title='Like Count Box-plot')"
   ]
  },
  {
   "cell_type": "markdown",
   "metadata": {},
   "source": [
    "### From the graph above, we can see that the median is around 5, the first and third quartiles are 0 and ~19, respectively, and the max is about 48"
   ]
  },
  {
   "cell_type": "markdown",
   "metadata": {},
   "source": [
    "### KDE distribution"
   ]
  },
  {
   "cell_type": "code",
   "execution_count": 75,
   "metadata": {},
   "outputs": [
    {
     "data": {
      "text/plain": [
       "<matplotlib.axes._subplots.AxesSubplot at 0x16f4d63ef70>"
      ]
     },
     "execution_count": 75,
     "metadata": {},
     "output_type": "execute_result"
    },
    {
     "data": {
      "image/png": "[encoded data removed]",
      "text/plain": [
       "<Figure size 432x288 with 1 Axes>"
      ]
     },
     "metadata": {
      "needs_background": "light"
     },
     "output_type": "display_data"
    }
   ],
   "source": [
    "likes.plot(kind='kde',\n",
    "            title='Like Count KDE')"
   ]
  },
  {
   "cell_type": "markdown",
   "metadata": {},
   "source": [
    "### The KDE confirms that the majority of the like counts are near 0; the very large like counts have skewed the mean and even median"
   ]
  },
  {
   "cell_type": "markdown",
   "metadata": {},
   "source": [
    "## Secondary analysis: Private vs. Public"
   ]
  },
  {
   "cell_type": "markdown",
   "metadata": {},
   "source": [
    "### How many public vs. private accounts are there"
   ]
  },
  {
   "cell_type": "code",
   "execution_count": 76,
   "metadata": {},
   "outputs": [],
   "source": [
    "acct_type = df['author.is_private']"
   ]
  },
  {
   "cell_type": "code",
   "execution_count": 77,
   "metadata": {},
   "outputs": [
    {
     "data": {
      "text/plain": [
       "0    False\n",
       "1     True\n",
       "2    False\n",
       "3    False\n",
       "4    False\n",
       "Name: author.is_private, dtype: bool"
      ]
     },
     "execution_count": 77,
     "metadata": {},
     "output_type": "execute_result"
    }
   ],
   "source": [
    "acct_type.head()"
   ]
  },
  {
   "cell_type": "code",
   "execution_count": 78,
   "metadata": {},
   "outputs": [
    {
     "data": {
      "text/plain": [
       "False    145292\n",
       "True      19818\n",
       "Name: author.is_private, dtype: int64"
      ]
     },
     "execution_count": 78,
     "metadata": {},
     "output_type": "execute_result"
    }
   ],
   "source": [
    "acct_type.value_counts()"
   ]
  },
  {
   "cell_type": "code",
   "execution_count": 79,
   "metadata": {},
   "outputs": [
    {
     "data": {
      "text/plain": [
       "<matplotlib.axes._subplots.AxesSubplot at 0x16f4e9610a0>"
      ]
     },
     "execution_count": 79,
     "metadata": {},
     "output_type": "execute_result"
    },
    {
     "data": {
      "image/png": "[encoded data removed]",
      "text/plain": [
       "<Figure size 432x288 with 1 Axes>"
      ]
     },
     "metadata": {
      "needs_background": "light"
     },
     "output_type": "display_data"
    }
   ],
   "source": [
    "sns.countplot(acct_type)"
   ]
  },
  {
   "cell_type": "markdown",
   "metadata": {},
   "source": [
    "### How does the average like count compare for private vs. public accounts?"
   ]
  },
  {
   "cell_type": "code",
   "execution_count": 84,
   "metadata": {},
   "outputs": [],
   "source": [
    "private_rows = df[df['author.is_private'] == True]\n",
    "public_rows = df[df['author.is_private'] == False]"
   ]
  },
  {
   "cell_type": "code",
   "execution_count": 87,
   "metadata": {},
   "outputs": [
    {
     "data": {
      "text/plain": [
       "(145292, 20)"
      ]
     },
     "execution_count": 87,
     "metadata": {},
     "output_type": "execute_result"
    }
   ],
   "source": [
    "public_rows.shape"
   ]
  },
  {
   "cell_type": "code",
   "execution_count": 88,
   "metadata": {},
   "outputs": [
    {
     "data": {
      "text/plain": [
       "(19818, 20)"
      ]
     },
     "execution_count": 88,
     "metadata": {},
     "output_type": "execute_result"
    }
   ],
   "source": [
    "private_rows.shape"
   ]
  },
  {
   "cell_type": "code",
   "execution_count": 92,
   "metadata": {},
   "outputs": [],
   "source": [
    "labels = ['Public', 'Private']"
   ]
  },
  {
   "cell_type": "code",
   "execution_count": 90,
   "metadata": {},
   "outputs": [],
   "source": [
    "public_avg = public_rows['like_count'].mean()"
   ]
  },
  {
   "cell_type": "code",
   "execution_count": 91,
   "metadata": {},
   "outputs": [],
   "source": [
    "private_avg = private_rows['like_count'].mean()"
   ]
  },
  {
   "cell_type": "code",
   "execution_count": 93,
   "metadata": {},
   "outputs": [],
   "source": [
    "values = [public_avg, private_avg]"
   ]
  },
  {
   "cell_type": "code",
   "execution_count": 95,
   "metadata": {},
   "outputs": [
    {
     "data": {
      "text/plain": [
       "Text(0.5, 1.0, 'Avg. Likes per Acct Type')"
      ]
     },
     "execution_count": 95,
     "metadata": {},
     "output_type": "execute_result"
    },
    {
     "data": {
      "image/png": "[encoded data removed]",
      "text/plain": [
       "<Figure size 432x288 with 1 Axes>"
      ]
     },
     "metadata": {
      "needs_background": "light"
     },
     "output_type": "display_data"
    }
   ],
   "source": [
    "plt.bar(labels, values)\n",
    "plt.title('Avg. Likes per Acct Type')"
   ]
  },
  {
   "cell_type": "markdown",
   "metadata": {},
   "source": [
    "# Additional Questions for Analysis"
   ]
  },
  {
   "cell_type": "markdown",
   "metadata": {},
   "source": [
    "### What author has the highest amount of likes?"
   ]
  },
  {
   "cell_type": "markdown",
   "metadata": {},
   "source": [
    "### What is the relationship between like count and verification?"
   ]
  },
  {
   "cell_type": "markdown",
   "metadata": {},
   "source": [
    "### What is the relationship between the presence of additional social media handles and like count?"
   ]
  }
 ],
 "metadata": {
  "kernelspec": {
   "display_name": "Python 3",
   "language": "python",
   "name": "python3"
  },
  "language_info": {
   "codemirror_mode": {
    "name": "ipython",
    "version": 3
   },
   "file_extension": ".py",
   "mimetype": "text/x-python",
   "name": "python",
   "nbconvert_exporter": "python",
   "pygments_lexer": "ipython3",
   "version": "3.8.3"
  }
 },
 "nbformat": 4,
 "nbformat_minor": 4
}
